{
 "cells": [
  {
   "cell_type": "code",
   "execution_count": 127,
   "metadata": {
    "scrolled": true
   },
   "outputs": [
    {
     "name": "stdout",
     "output_type": "stream",
     "text": [
      "|-[6 2]\n",
      "|--[2 5]\n",
      "|---[3 1]\n",
      "|----[1 0]\n",
      "|----[]\n",
      "|---[4 7]\n",
      "|--[10  6]\n",
      "|---[7 4]\n",
      "|---[]\n"
     ]
    },
    {
     "data": {
      "text/plain": [
       "[array([6, 2]),\n",
       " [[array([2, 5]),\n",
       "   [[array([3, 1]), [array([1, 0]), array([], shape=(0, 2), dtype=int64)]],\n",
       "    array([4, 7])]],\n",
       "  [array([10,  6]), [array([7, 4]), array([], shape=(0, 2), dtype=int64)]]]]"
      ]
     },
     "execution_count": 127,
     "metadata": {},
     "output_type": "execute_result"
    }
   ],
   "source": [
    "import numpy as np\n",
    "\n",
    "\n",
    "training_data = np.array([[1,0], [2,5], [3,1], [4,7], [6,2], [7,4], [10,6]])\n",
    "\n",
    "\n",
    "class KDTree:\n",
    "    def __init__(self):\n",
    "        self._tree = None\n",
    "    \n",
    "    def learn(self, data):\n",
    "        def create_tree(partial_data, dim, max_dim):            \n",
    "            if len(partial_data) == 0:\n",
    "                return partial_data\n",
    "            elif len(partial_data) == 1:\n",
    "                return partial_data[0]\n",
    "            \n",
    "            partial_data = np.array(sorted(partial_data, key=lambda x: x[dim]))\n",
    "\n",
    "            mid_index = int(np.ceil(len(partial_data) / 2.))\n",
    "            \n",
    "            left = partial_data[:mid_index]\n",
    "            mid = partial_data[mid_index]\n",
    "            right = partial_data[mid_index + 1:]\n",
    "\n",
    "            next_dim = dim + 1 if dim < max_dim else 0\n",
    "            \n",
    "            node = [mid, \n",
    "                    [create_tree(left, next_dim, max_dim) if len(left.shape) == 2 else left, \n",
    "                     create_tree(right, next_dim, max_dim)] if len(right.shape) == 2 else right]\n",
    "            return node\n",
    "        \n",
    "        self._tree = create_tree(data, 0, data.shape[1] - 1)\n",
    "        \n",
    "    def print_tree(self):\n",
    "        def _print_tree(node, depth):\n",
    "            if isinstance(node, np.ndarray):\n",
    "                print('|' + ''.join(['-'] * depth) + str(node))                \n",
    "            else:\n",
    "                if isinstance(node[0], np.ndarray):\n",
    "                    _print_tree(node[0], depth)\n",
    "                    _print_tree(node[1], depth if isinstance(node[1], np.ndarray) else depth + 1)\n",
    "                else:\n",
    "                    _print_tree(node[0], depth)\n",
    "                    _print_tree(node[1], depth)\n",
    "        _print_tree(self._tree, 1)\n",
    "        \n",
    "        \n",
    "kd_tree = KDTree()\n",
    "kd_tree.learn(sample_data)\n",
    "kd_tree.print_tree()"
   ]
  },
  {
   "cell_type": "code",
   "execution_count": null,
   "metadata": {
    "collapsed": true
   },
   "outputs": [],
   "source": []
  }
 ],
 "metadata": {
  "kernelspec": {
   "display_name": "Python 3",
   "language": "python",
   "name": "python3"
  },
  "language_info": {
   "codemirror_mode": {
    "name": "ipython",
    "version": 3
   },
   "file_extension": ".py",
   "mimetype": "text/x-python",
   "name": "python",
   "nbconvert_exporter": "python",
   "pygments_lexer": "ipython3",
   "version": "3.6.0"
  }
 },
 "nbformat": 4,
 "nbformat_minor": 2
}
